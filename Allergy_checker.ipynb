{
  "nbformat": 4,
  "nbformat_minor": 0,
  "metadata": {
    "colab": {
      "provenance": [],
      "authorship_tag": "ABX9TyNSXu2E6fB0W8KuO1JFDERe",
      "include_colab_link": true
    },
    "kernelspec": {
      "name": "python3",
      "display_name": "Python 3"
    },
    "language_info": {
      "name": "python"
    }
  },
  "cells": [
    {
      "cell_type": "markdown",
      "metadata": {
        "id": "view-in-github",
        "colab_type": "text"
      },
      "source": [
        "<a href=\"https://colab.research.google.com/github/kanavbenipuri/Allergy-checker/blob/main/Allergy_checker.ipynb\" target=\"_parent\"><img src=\"https://colab.research.google.com/assets/colab-badge.svg\" alt=\"Open In Colab\"/></a>"
      ]
    },
    {
      "cell_type": "code",
      "source": [
        "import requests\n",
        "from bs4 import BeautifulSoup\n",
        "\n",
        "def get_ingredients_google(consumable):\n",
        "\n",
        "  query = f\"{consumable} ingredients\"\n",
        "  url = f\"https://www.google.com/search?q={query}\"\n",
        "  headers = {\n",
        "    'User-Agent': 'Mozilla/5.0 (Windows NT 10.0; Win64; x64) AppleWebKit/537.36 (KHTML, like Gecko) Chrome/58.0.3029.110 Safari/537.3'\n",
        "  }\n",
        "  response = requests.get(url, headers=headers)\n",
        "  soup = BeautifulSoup(response.text, 'html.parser')\n",
        "\n",
        "\n",
        "  ingredients_list = []\n",
        "  for result in soup.find_all('div', class_='BNeawe'):\n",
        "    ingredients_list.append(result.text)\n",
        "\n",
        "  return \", \".join(ingredients_list) if ingredients_list else \"Ingredients not found.\"\n",
        "\n",
        "def check_allergies(ingredients, allergies):\n",
        "\n",
        "  ingredients_lower = ingredients.lower()\n",
        "  for allergy in allergies:\n",
        "    if allergy.lower() in ingredients_lower:\n",
        "      return True\n",
        "  return False\n",
        "\n",
        "\n",
        "consumable = input(\"Enter the consumable you want to check: \")\n",
        "allergies_input = input(\"Enter your allergies (comma-separated): \")\n",
        "allergies = [a.strip() for a in allergies_input.split(\",\")]\n",
        "\n",
        "\n",
        "ingredients = get_ingredients_google(consumable)\n",
        "\n",
        "if check_allergies(ingredients, allergies):\n",
        "  print(\"Warning: This consumable may contain some of your allergies!\")\n",
        "else:\n",
        "  print(\"No known allergies found in this consumable.\")\n"
      ],
      "metadata": {
        "colab": {
          "base_uri": "https://localhost:8080/"
        },
        "id": "Dmy4fYlSBUVr",
        "outputId": "8686b1de-4f3b-49fa-f99d-0c39c5843e46"
      },
      "execution_count": 9,
      "outputs": [
        {
          "output_type": "stream",
          "name": "stdout",
          "text": [
            "Enter the consumable you want to check: mutton biryani\n",
            "Enter your allergies (comma-separated): cheese\n",
            "No known allergies found in this consumable.\n"
          ]
        }
      ]
    }
  ]
}